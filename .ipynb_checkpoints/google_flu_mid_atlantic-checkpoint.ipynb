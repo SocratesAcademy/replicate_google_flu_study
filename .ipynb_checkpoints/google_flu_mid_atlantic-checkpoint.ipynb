{
 "cells": [
  {
   "cell_type": "code",
   "execution_count": 1,
   "metadata": {
    "ExecuteTime": {
     "end_time": "2021-04-22T07:35:35.645037Z",
     "start_time": "2021-04-22T07:35:34.815040Z"
    }
   },
   "outputs": [],
   "source": [
    "import pandas as pd\n",
    "import matplotlib.pyplot as plt\n",
    "import numpy as np\n",
    "from sklearn.metrics import r2_score\n",
    "from sklearn.metrics import mean_squared_error\n",
    "from sklearn.model_selection import train_test_split\n",
    "from sklearn.linear_model import ElasticNetCV, ElasticNet\n",
    "from sklearn.model_selection import RandomizedSearchCV\n",
    "from sklearn.model_selection import StratifiedKFold"
   ]
  },
  {
   "cell_type": "code",
   "execution_count": 2,
   "metadata": {
    "ExecuteTime": {
     "end_time": "2021-04-22T07:36:05.040662Z",
     "start_time": "2021-04-22T07:35:36.924681Z"
    }
   },
   "outputs": [
    {
     "name": "stdout",
     "output_type": "stream",
     "text": [
      "5\n",
      "10\n",
      "15\n",
      "20\n",
      "25\n",
      "30\n",
      "35\n",
      "40\n",
      "45\n"
     ]
    },
    {
     "data": {
      "text/html": [
       "<div>\n",
       "<style scoped>\n",
       "    .dataframe tbody tr th:only-of-type {\n",
       "        vertical-align: middle;\n",
       "    }\n",
       "\n",
       "    .dataframe tbody tr th {\n",
       "        vertical-align: top;\n",
       "    }\n",
       "\n",
       "    .dataframe thead th {\n",
       "        text-align: right;\n",
       "    }\n",
       "</style>\n",
       "<table border=\"1\" class=\"dataframe\">\n",
       "  <thead>\n",
       "    <tr style=\"text-align: right;\">\n",
       "      <th></th>\n",
       "      <th>date</th>\n",
       "      <th>query1</th>\n",
       "      <th>query2</th>\n",
       "      <th>query3</th>\n",
       "      <th>query4</th>\n",
       "      <th>query5</th>\n",
       "      <th>query6</th>\n",
       "      <th>query7</th>\n",
       "      <th>query8</th>\n",
       "      <th>query9</th>\n",
       "      <th>...</th>\n",
       "      <th>query36</th>\n",
       "      <th>query37</th>\n",
       "      <th>query38</th>\n",
       "      <th>query39</th>\n",
       "      <th>query40</th>\n",
       "      <th>query41</th>\n",
       "      <th>query42</th>\n",
       "      <th>query43</th>\n",
       "      <th>query44</th>\n",
       "      <th>query45</th>\n",
       "    </tr>\n",
       "  </thead>\n",
       "  <tbody>\n",
       "    <tr>\n",
       "      <th>0</th>\n",
       "      <td>2003-06-01</td>\n",
       "      <td>0.990</td>\n",
       "      <td>6.471</td>\n",
       "      <td>6.899</td>\n",
       "      <td>0.990</td>\n",
       "      <td>1.448</td>\n",
       "      <td>1.581</td>\n",
       "      <td>0.118</td>\n",
       "      <td>0.517</td>\n",
       "      <td>0.813</td>\n",
       "      <td>...</td>\n",
       "      <td>0.414</td>\n",
       "      <td>0.103</td>\n",
       "      <td>0.606</td>\n",
       "      <td>0.163</td>\n",
       "      <td>0.355</td>\n",
       "      <td>0.827</td>\n",
       "      <td>0.163</td>\n",
       "      <td>0.295</td>\n",
       "      <td>2.822</td>\n",
       "      <td>2.245</td>\n",
       "    </tr>\n",
       "    <tr>\n",
       "      <th>1</th>\n",
       "      <td>2003-06-08</td>\n",
       "      <td>0.806</td>\n",
       "      <td>6.063</td>\n",
       "      <td>6.992</td>\n",
       "      <td>0.964</td>\n",
       "      <td>1.227</td>\n",
       "      <td>1.647</td>\n",
       "      <td>0.123</td>\n",
       "      <td>0.280</td>\n",
       "      <td>0.596</td>\n",
       "      <td>...</td>\n",
       "      <td>0.543</td>\n",
       "      <td>0.158</td>\n",
       "      <td>0.561</td>\n",
       "      <td>0.210</td>\n",
       "      <td>0.210</td>\n",
       "      <td>1.577</td>\n",
       "      <td>0.228</td>\n",
       "      <td>0.193</td>\n",
       "      <td>2.664</td>\n",
       "      <td>2.050</td>\n",
       "    </tr>\n",
       "    <tr>\n",
       "      <th>2</th>\n",
       "      <td>2003-06-15</td>\n",
       "      <td>0.892</td>\n",
       "      <td>5.044</td>\n",
       "      <td>6.130</td>\n",
       "      <td>0.912</td>\n",
       "      <td>0.912</td>\n",
       "      <td>1.765</td>\n",
       "      <td>0.019</td>\n",
       "      <td>0.485</td>\n",
       "      <td>0.640</td>\n",
       "      <td>...</td>\n",
       "      <td>0.582</td>\n",
       "      <td>0.194</td>\n",
       "      <td>0.737</td>\n",
       "      <td>0.175</td>\n",
       "      <td>0.310</td>\n",
       "      <td>1.377</td>\n",
       "      <td>0.136</td>\n",
       "      <td>0.330</td>\n",
       "      <td>3.240</td>\n",
       "      <td>2.541</td>\n",
       "    </tr>\n",
       "    <tr>\n",
       "      <th>3</th>\n",
       "      <td>2003-06-22</td>\n",
       "      <td>1.149</td>\n",
       "      <td>5.033</td>\n",
       "      <td>5.054</td>\n",
       "      <td>0.710</td>\n",
       "      <td>0.668</td>\n",
       "      <td>2.068</td>\n",
       "      <td>0.104</td>\n",
       "      <td>0.230</td>\n",
       "      <td>0.564</td>\n",
       "      <td>...</td>\n",
       "      <td>0.272</td>\n",
       "      <td>0.125</td>\n",
       "      <td>0.522</td>\n",
       "      <td>0.167</td>\n",
       "      <td>0.313</td>\n",
       "      <td>1.587</td>\n",
       "      <td>0.230</td>\n",
       "      <td>0.292</td>\n",
       "      <td>2.318</td>\n",
       "      <td>2.088</td>\n",
       "    </tr>\n",
       "    <tr>\n",
       "      <th>4</th>\n",
       "      <td>2003-06-29</td>\n",
       "      <td>0.768</td>\n",
       "      <td>4.920</td>\n",
       "      <td>5.128</td>\n",
       "      <td>0.685</td>\n",
       "      <td>0.727</td>\n",
       "      <td>1.868</td>\n",
       "      <td>0.021</td>\n",
       "      <td>0.270</td>\n",
       "      <td>0.374</td>\n",
       "      <td>...</td>\n",
       "      <td>0.415</td>\n",
       "      <td>0.104</td>\n",
       "      <td>0.374</td>\n",
       "      <td>0.083</td>\n",
       "      <td>0.145</td>\n",
       "      <td>1.100</td>\n",
       "      <td>0.187</td>\n",
       "      <td>0.353</td>\n",
       "      <td>2.553</td>\n",
       "      <td>2.284</td>\n",
       "    </tr>\n",
       "  </tbody>\n",
       "</table>\n",
       "<p>5 rows × 46 columns</p>\n",
       "</div>"
      ],
      "text/plain": [
       "         date  query1  query2  query3  query4  query5  query6  query7  query8  \\\n",
       "0  2003-06-01   0.990   6.471   6.899   0.990   1.448   1.581   0.118   0.517   \n",
       "1  2003-06-08   0.806   6.063   6.992   0.964   1.227   1.647   0.123   0.280   \n",
       "2  2003-06-15   0.892   5.044   6.130   0.912   0.912   1.765   0.019   0.485   \n",
       "3  2003-06-22   1.149   5.033   5.054   0.710   0.668   2.068   0.104   0.230   \n",
       "4  2003-06-29   0.768   4.920   5.128   0.685   0.727   1.868   0.021   0.270   \n",
       "\n",
       "   query9  ...  query36  query37  query38  query39  query40  query41  query42  \\\n",
       "0   0.813  ...    0.414    0.103    0.606    0.163    0.355    0.827    0.163   \n",
       "1   0.596  ...    0.543    0.158    0.561    0.210    0.210    1.577    0.228   \n",
       "2   0.640  ...    0.582    0.194    0.737    0.175    0.310    1.377    0.136   \n",
       "3   0.564  ...    0.272    0.125    0.522    0.167    0.313    1.587    0.230   \n",
       "4   0.374  ...    0.415    0.104    0.374    0.083    0.145    1.100    0.187   \n",
       "\n",
       "   query43  query44  query45  \n",
       "0    0.295    2.822    2.245  \n",
       "1    0.193    2.664    2.050  \n",
       "2    0.330    3.240    2.541  \n",
       "3    0.292    2.318    2.088  \n",
       "4    0.353    2.553    2.284  \n",
       "\n",
       "[5 rows x 46 columns]"
      ]
     },
     "execution_count": 2,
     "metadata": {},
     "output_type": "execute_result"
    }
   ],
   "source": [
    "df = pd.read_excel('41586_2009_BFnature07634_MOESM271_ESM.xls', sheet_name=1, header = 1)\n",
    "\n",
    "# Combine 45 queries\n",
    "dict = {'date': df['Date'].tolist()}\n",
    "for i in range(1, 46):\n",
    "    if i % 5 ==0:\n",
    "        print(i)\n",
    "    df = pd.read_excel('41586_2009_BFnature07634_MOESM271_ESM.xls', sheet_name=i, header = 1)\n",
    "    dict['query'+str(i)] = df['Mid-Atlantic Region'].tolist()\n",
    "dat = pd.DataFrame.from_dict(dict)\n",
    "dat.head()"
   ]
  },
  {
   "cell_type": "code",
   "execution_count": 3,
   "metadata": {
    "ExecuteTime": {
     "end_time": "2021-04-22T07:36:08.258157Z",
     "start_time": "2021-04-22T07:36:08.253648Z"
    }
   },
   "outputs": [],
   "source": [
    "dat['date'] = pd.to_datetime(dat['date'])"
   ]
  },
  {
   "cell_type": "code",
   "execution_count": 4,
   "metadata": {
    "ExecuteTime": {
     "end_time": "2021-04-22T07:36:08.966381Z",
     "start_time": "2021-04-22T07:36:08.930406Z"
    }
   },
   "outputs": [],
   "source": [
    "df0 = pd.read_csv('FluView_LineChart_Data-0.csv', skiprows = 1)\n",
    "df1 = pd.read_csv('FluView_LineChart_Data-1.csv', skiprows = 1)\n",
    "df2 = pd.read_csv('FluView_LineChart_Data-2.csv', skiprows = 1)\n",
    "df3 = pd.read_csv('FluView_LineChart_Data-3.csv', skiprows = 1)\n",
    "df4 = pd.read_csv('FluView_LineChart_Data-4.csv', skiprows = 1)\n",
    "df5 = pd.read_csv('FluView_LineChart_Data-5.csv', skiprows = 1)\n",
    "df6 = pd.read_csv('FluView_LineChart_Data-6.csv', skiprows = 1)\n",
    "\n",
    "y = pd.concat([df0, df1, df2, df3, df4, df5, df6])\n",
    "y = y[y['YEAR'] > 2002]\n",
    "y = y[((y['YEAR']==2003)&(y['WEEK'] > 22)) | (y['YEAR'] > 2003) ][:dat['date'].size]\n",
    "\n",
    "y = y['% WEIGHTED ILI']"
   ]
  },
  {
   "cell_type": "code",
   "execution_count": 5,
   "metadata": {
    "ExecuteTime": {
     "end_time": "2021-04-22T07:36:11.002061Z",
     "start_time": "2021-04-22T07:36:10.875658Z"
    }
   },
   "outputs": [
    {
     "data": {
      "image/png": "[encoded data removed]",
      "text/plain": [
       "<Figure size 432x288 with 1 Axes>"
      ]
     },
     "metadata": {
      "needs_background": "light"
     },
     "output_type": "display_data"
    }
   ],
   "source": [
    "plt.plot(dat['date'], y);\n"
   ]
  },
  {
   "cell_type": "code",
   "execution_count": 6,
   "metadata": {
    "ExecuteTime": {
     "end_time": "2021-04-22T07:36:11.883396Z",
     "start_time": "2021-04-22T07:36:11.729286Z"
    }
   },
   "outputs": [
    {
     "data": {
      "image/png": "[encoded data removed]",
      "text/plain": [
       "<Figure size 432x288 with 1 Axes>"
      ]
     },
     "metadata": {
      "needs_background": "light"
     },
     "output_type": "display_data"
    }
   ],
   "source": [
    "plt.plot(dat['date'], dat['query1'], label = 'query1')\n",
    "plt.plot(dat['date'], dat['query2'], label = 'query2')\n",
    "plt.plot(dat['date'], dat['query3'], label = 'query3')\n",
    "plt.plot(dat['date'], y,  label = 'CDC ILI')\n",
    "plt.legend()\n",
    "plt.show()"
   ]
  },
  {
   "cell_type": "code",
   "execution_count": 7,
   "metadata": {
    "ExecuteTime": {
     "end_time": "2021-04-22T07:36:13.439147Z",
     "start_time": "2021-04-22T07:36:13.435387Z"
    }
   },
   "outputs": [],
   "source": [
    "dat['y'] = y.tolist()"
   ]
  },
  {
   "cell_type": "code",
   "execution_count": 11,
   "metadata": {
    "ExecuteTime": {
     "end_time": "2021-04-22T07:36:49.626645Z",
     "start_time": "2021-04-22T07:36:49.622563Z"
    }
   },
   "outputs": [
    {
     "data": {
      "text/plain": [
       "Index(['date', 'query1', 'query2', 'query3', 'query4', 'query5', 'query6',\n",
       "       'query7', 'query8', 'query9', 'query10', 'query11', 'query12',\n",
       "       'query13', 'query14', 'query15', 'query16', 'query17', 'query18',\n",
       "       'query19', 'query20', 'query21', 'query22', 'query23', 'query24',\n",
       "       'query25', 'query26', 'query27', 'query28', 'query29', 'query30',\n",
       "       'query31', 'query32', 'query33', 'query34', 'query35', 'query36',\n",
       "       'query37', 'query38', 'query39', 'query40', 'query41', 'query42',\n",
       "       'query43', 'query44', 'query45', 'y', 'trend', 'lag_1', 'lag_2',\n",
       "       'lag_3', 'lag_4', 'lag_5', 'lag_6', 'lag_7'],\n",
       "      dtype='object')"
      ]
     },
     "execution_count": 11,
     "metadata": {},
     "output_type": "execute_result"
    }
   ],
   "source": [
    "dat.columns"
   ]
  },
  {
   "cell_type": "code",
   "execution_count": 37,
   "metadata": {
    "ExecuteTime": {
     "end_time": "2021-04-22T07:45:43.185471Z",
     "start_time": "2021-04-22T07:45:43.181219Z"
    }
   },
   "outputs": [],
   "source": [
    "#dat['winter'] = \n",
    "dat['winter'] = [1 if i.month in [12, 1, 2] else 0 for i in dat['date'] ]"
   ]
  },
  {
   "cell_type": "code",
   "execution_count": 38,
   "metadata": {
    "ExecuteTime": {
     "end_time": "2021-04-22T07:46:03.454635Z",
     "start_time": "2021-04-22T07:46:03.451104Z"
    }
   },
   "outputs": [],
   "source": [
    "y = dat['y']\n",
    "date = dat['date']\n",
    "dat['trend'] = range(1,len(dat)+1)\n",
    "#X = dat.drop(['y', 'date'], axis = 1)"
   ]
  },
  {
   "cell_type": "code",
   "execution_count": 39,
   "metadata": {
    "ExecuteTime": {
     "end_time": "2021-04-22T07:46:04.062892Z",
     "start_time": "2021-04-22T07:46:04.055720Z"
    }
   },
   "outputs": [
    {
     "name": "stdout",
     "output_type": "stream",
     "text": [
      "done\n"
     ]
    }
   ],
   "source": [
    "for i in range(1, 8):\n",
    "    dat[\"lag_{}\".format(i)] = dat['y'].shift(i)\n",
    "print(\"done\")\n",
    "dat=dat.fillna(0)"
   ]
  },
  {
   "cell_type": "code",
   "execution_count": 48,
   "metadata": {
    "ExecuteTime": {
     "end_time": "2021-04-22T07:49:58.722344Z",
     "start_time": "2021-04-22T07:49:58.717627Z"
    }
   },
   "outputs": [],
   "source": [
    "X = dat.drop(['y', 'date', 'lag_1', 'lag_2',\n",
    "       'lag_3', 'lag_4', 'lag_5', 'lag_6', 'lag_7'], axis = 1)"
   ]
  },
  {
   "cell_type": "code",
   "execution_count": 49,
   "metadata": {
    "ExecuteTime": {
     "end_time": "2021-04-22T07:50:03.451615Z",
     "start_time": "2021-04-22T07:50:03.420900Z"
    }
   },
   "outputs": [
    {
     "data": {
      "text/html": [
       "<div>\n",
       "<style scoped>\n",
       "    .dataframe tbody tr th:only-of-type {\n",
       "        vertical-align: middle;\n",
       "    }\n",
       "\n",
       "    .dataframe tbody tr th {\n",
       "        vertical-align: top;\n",
       "    }\n",
       "\n",
       "    .dataframe thead th {\n",
       "        text-align: right;\n",
       "    }\n",
       "</style>\n",
       "<table border=\"1\" class=\"dataframe\">\n",
       "  <thead>\n",
       "    <tr style=\"text-align: right;\">\n",
       "      <th></th>\n",
       "      <th>query1</th>\n",
       "      <th>query2</th>\n",
       "      <th>query3</th>\n",
       "      <th>query4</th>\n",
       "      <th>query5</th>\n",
       "      <th>query6</th>\n",
       "      <th>query7</th>\n",
       "      <th>query8</th>\n",
       "      <th>query9</th>\n",
       "      <th>query10</th>\n",
       "      <th>...</th>\n",
       "      <th>query38</th>\n",
       "      <th>query39</th>\n",
       "      <th>query40</th>\n",
       "      <th>query41</th>\n",
       "      <th>query42</th>\n",
       "      <th>query43</th>\n",
       "      <th>query44</th>\n",
       "      <th>query45</th>\n",
       "      <th>trend</th>\n",
       "      <th>winter</th>\n",
       "    </tr>\n",
       "  </thead>\n",
       "  <tbody>\n",
       "    <tr>\n",
       "      <th>0</th>\n",
       "      <td>0.990</td>\n",
       "      <td>6.471</td>\n",
       "      <td>6.899</td>\n",
       "      <td>0.990</td>\n",
       "      <td>1.448</td>\n",
       "      <td>1.581</td>\n",
       "      <td>0.118</td>\n",
       "      <td>0.517</td>\n",
       "      <td>0.813</td>\n",
       "      <td>0.059</td>\n",
       "      <td>...</td>\n",
       "      <td>0.606</td>\n",
       "      <td>0.163</td>\n",
       "      <td>0.355</td>\n",
       "      <td>0.827</td>\n",
       "      <td>0.163</td>\n",
       "      <td>0.295</td>\n",
       "      <td>2.822</td>\n",
       "      <td>2.245</td>\n",
       "      <td>1</td>\n",
       "      <td>0</td>\n",
       "    </tr>\n",
       "    <tr>\n",
       "      <th>1</th>\n",
       "      <td>0.806</td>\n",
       "      <td>6.063</td>\n",
       "      <td>6.992</td>\n",
       "      <td>0.964</td>\n",
       "      <td>1.227</td>\n",
       "      <td>1.647</td>\n",
       "      <td>0.123</td>\n",
       "      <td>0.280</td>\n",
       "      <td>0.596</td>\n",
       "      <td>0.123</td>\n",
       "      <td>...</td>\n",
       "      <td>0.561</td>\n",
       "      <td>0.210</td>\n",
       "      <td>0.210</td>\n",
       "      <td>1.577</td>\n",
       "      <td>0.228</td>\n",
       "      <td>0.193</td>\n",
       "      <td>2.664</td>\n",
       "      <td>2.050</td>\n",
       "      <td>2</td>\n",
       "      <td>0</td>\n",
       "    </tr>\n",
       "    <tr>\n",
       "      <th>2</th>\n",
       "      <td>0.892</td>\n",
       "      <td>5.044</td>\n",
       "      <td>6.130</td>\n",
       "      <td>0.912</td>\n",
       "      <td>0.912</td>\n",
       "      <td>1.765</td>\n",
       "      <td>0.019</td>\n",
       "      <td>0.485</td>\n",
       "      <td>0.640</td>\n",
       "      <td>0.175</td>\n",
       "      <td>...</td>\n",
       "      <td>0.737</td>\n",
       "      <td>0.175</td>\n",
       "      <td>0.310</td>\n",
       "      <td>1.377</td>\n",
       "      <td>0.136</td>\n",
       "      <td>0.330</td>\n",
       "      <td>3.240</td>\n",
       "      <td>2.541</td>\n",
       "      <td>3</td>\n",
       "      <td>0</td>\n",
       "    </tr>\n",
       "    <tr>\n",
       "      <th>3</th>\n",
       "      <td>1.149</td>\n",
       "      <td>5.033</td>\n",
       "      <td>5.054</td>\n",
       "      <td>0.710</td>\n",
       "      <td>0.668</td>\n",
       "      <td>2.068</td>\n",
       "      <td>0.104</td>\n",
       "      <td>0.230</td>\n",
       "      <td>0.564</td>\n",
       "      <td>0.021</td>\n",
       "      <td>...</td>\n",
       "      <td>0.522</td>\n",
       "      <td>0.167</td>\n",
       "      <td>0.313</td>\n",
       "      <td>1.587</td>\n",
       "      <td>0.230</td>\n",
       "      <td>0.292</td>\n",
       "      <td>2.318</td>\n",
       "      <td>2.088</td>\n",
       "      <td>4</td>\n",
       "      <td>0</td>\n",
       "    </tr>\n",
       "    <tr>\n",
       "      <th>4</th>\n",
       "      <td>0.768</td>\n",
       "      <td>4.920</td>\n",
       "      <td>5.128</td>\n",
       "      <td>0.685</td>\n",
       "      <td>0.727</td>\n",
       "      <td>1.868</td>\n",
       "      <td>0.021</td>\n",
       "      <td>0.270</td>\n",
       "      <td>0.374</td>\n",
       "      <td>0.062</td>\n",
       "      <td>...</td>\n",
       "      <td>0.374</td>\n",
       "      <td>0.083</td>\n",
       "      <td>0.145</td>\n",
       "      <td>1.100</td>\n",
       "      <td>0.187</td>\n",
       "      <td>0.353</td>\n",
       "      <td>2.553</td>\n",
       "      <td>2.284</td>\n",
       "      <td>5</td>\n",
       "      <td>0</td>\n",
       "    </tr>\n",
       "    <tr>\n",
       "      <th>...</th>\n",
       "      <td>...</td>\n",
       "      <td>...</td>\n",
       "      <td>...</td>\n",
       "      <td>...</td>\n",
       "      <td>...</td>\n",
       "      <td>...</td>\n",
       "      <td>...</td>\n",
       "      <td>...</td>\n",
       "      <td>...</td>\n",
       "      <td>...</td>\n",
       "      <td>...</td>\n",
       "      <td>...</td>\n",
       "      <td>...</td>\n",
       "      <td>...</td>\n",
       "      <td>...</td>\n",
       "      <td>...</td>\n",
       "      <td>...</td>\n",
       "      <td>...</td>\n",
       "      <td>...</td>\n",
       "      <td>...</td>\n",
       "      <td>...</td>\n",
       "    </tr>\n",
       "    <tr>\n",
       "      <th>254</th>\n",
       "      <td>2.958</td>\n",
       "      <td>8.438</td>\n",
       "      <td>11.371</td>\n",
       "      <td>1.609</td>\n",
       "      <td>2.955</td>\n",
       "      <td>2.535</td>\n",
       "      <td>0.178</td>\n",
       "      <td>0.871</td>\n",
       "      <td>0.966</td>\n",
       "      <td>0.401</td>\n",
       "      <td>...</td>\n",
       "      <td>1.085</td>\n",
       "      <td>0.431</td>\n",
       "      <td>0.520</td>\n",
       "      <td>1.038</td>\n",
       "      <td>0.245</td>\n",
       "      <td>0.323</td>\n",
       "      <td>3.584</td>\n",
       "      <td>1.475</td>\n",
       "      <td>255</td>\n",
       "      <td>0</td>\n",
       "    </tr>\n",
       "    <tr>\n",
       "      <th>255</th>\n",
       "      <td>2.302</td>\n",
       "      <td>7.163</td>\n",
       "      <td>9.692</td>\n",
       "      <td>1.361</td>\n",
       "      <td>2.265</td>\n",
       "      <td>2.324</td>\n",
       "      <td>0.126</td>\n",
       "      <td>0.750</td>\n",
       "      <td>0.840</td>\n",
       "      <td>0.260</td>\n",
       "      <td>...</td>\n",
       "      <td>1.070</td>\n",
       "      <td>0.364</td>\n",
       "      <td>0.403</td>\n",
       "      <td>0.963</td>\n",
       "      <td>0.210</td>\n",
       "      <td>0.252</td>\n",
       "      <td>2.977</td>\n",
       "      <td>1.327</td>\n",
       "      <td>256</td>\n",
       "      <td>0</td>\n",
       "    </tr>\n",
       "    <tr>\n",
       "      <th>256</th>\n",
       "      <td>1.793</td>\n",
       "      <td>7.110</td>\n",
       "      <td>9.792</td>\n",
       "      <td>1.211</td>\n",
       "      <td>2.165</td>\n",
       "      <td>2.395</td>\n",
       "      <td>0.118</td>\n",
       "      <td>0.721</td>\n",
       "      <td>0.847</td>\n",
       "      <td>0.291</td>\n",
       "      <td>...</td>\n",
       "      <td>0.938</td>\n",
       "      <td>0.309</td>\n",
       "      <td>0.467</td>\n",
       "      <td>0.894</td>\n",
       "      <td>0.155</td>\n",
       "      <td>0.241</td>\n",
       "      <td>3.174</td>\n",
       "      <td>1.279</td>\n",
       "      <td>257</td>\n",
       "      <td>0</td>\n",
       "    </tr>\n",
       "    <tr>\n",
       "      <th>257</th>\n",
       "      <td>1.492</td>\n",
       "      <td>7.097</td>\n",
       "      <td>8.496</td>\n",
       "      <td>1.098</td>\n",
       "      <td>1.801</td>\n",
       "      <td>2.436</td>\n",
       "      <td>0.071</td>\n",
       "      <td>0.651</td>\n",
       "      <td>0.704</td>\n",
       "      <td>0.241</td>\n",
       "      <td>...</td>\n",
       "      <td>0.984</td>\n",
       "      <td>0.347</td>\n",
       "      <td>0.516</td>\n",
       "      <td>0.918</td>\n",
       "      <td>0.169</td>\n",
       "      <td>0.309</td>\n",
       "      <td>2.920</td>\n",
       "      <td>1.278</td>\n",
       "      <td>258</td>\n",
       "      <td>0</td>\n",
       "    </tr>\n",
       "    <tr>\n",
       "      <th>258</th>\n",
       "      <td>1.367</td>\n",
       "      <td>6.846</td>\n",
       "      <td>8.589</td>\n",
       "      <td>0.882</td>\n",
       "      <td>1.676</td>\n",
       "      <td>2.649</td>\n",
       "      <td>0.067</td>\n",
       "      <td>0.666</td>\n",
       "      <td>0.701</td>\n",
       "      <td>0.200</td>\n",
       "      <td>...</td>\n",
       "      <td>0.927</td>\n",
       "      <td>0.322</td>\n",
       "      <td>0.453</td>\n",
       "      <td>1.010</td>\n",
       "      <td>0.149</td>\n",
       "      <td>0.296</td>\n",
       "      <td>3.163</td>\n",
       "      <td>1.263</td>\n",
       "      <td>259</td>\n",
       "      <td>0</td>\n",
       "    </tr>\n",
       "  </tbody>\n",
       "</table>\n",
       "<p>259 rows × 47 columns</p>\n",
       "</div>"
      ],
      "text/plain": [
       "     query1  query2  query3  query4  query5  query6  query7  query8  query9  \\\n",
       "0     0.990   6.471   6.899   0.990   1.448   1.581   0.118   0.517   0.813   \n",
       "1     0.806   6.063   6.992   0.964   1.227   1.647   0.123   0.280   0.596   \n",
       "2     0.892   5.044   6.130   0.912   0.912   1.765   0.019   0.485   0.640   \n",
       "3     1.149   5.033   5.054   0.710   0.668   2.068   0.104   0.230   0.564   \n",
       "4     0.768   4.920   5.128   0.685   0.727   1.868   0.021   0.270   0.374   \n",
       "..      ...     ...     ...     ...     ...     ...     ...     ...     ...   \n",
       "254   2.958   8.438  11.371   1.609   2.955   2.535   0.178   0.871   0.966   \n",
       "255   2.302   7.163   9.692   1.361   2.265   2.324   0.126   0.750   0.840   \n",
       "256   1.793   7.110   9.792   1.211   2.165   2.395   0.118   0.721   0.847   \n",
       "257   1.492   7.097   8.496   1.098   1.801   2.436   0.071   0.651   0.704   \n",
       "258   1.367   6.846   8.589   0.882   1.676   2.649   0.067   0.666   0.701   \n",
       "\n",
       "     query10  ...  query38  query39  query40  query41  query42  query43  \\\n",
       "0      0.059  ...    0.606    0.163    0.355    0.827    0.163    0.295   \n",
       "1      0.123  ...    0.561    0.210    0.210    1.577    0.228    0.193   \n",
       "2      0.175  ...    0.737    0.175    0.310    1.377    0.136    0.330   \n",
       "3      0.021  ...    0.522    0.167    0.313    1.587    0.230    0.292   \n",
       "4      0.062  ...    0.374    0.083    0.145    1.100    0.187    0.353   \n",
       "..       ...  ...      ...      ...      ...      ...      ...      ...   \n",
       "254    0.401  ...    1.085    0.431    0.520    1.038    0.245    0.323   \n",
       "255    0.260  ...    1.070    0.364    0.403    0.963    0.210    0.252   \n",
       "256    0.291  ...    0.938    0.309    0.467    0.894    0.155    0.241   \n",
       "257    0.241  ...    0.984    0.347    0.516    0.918    0.169    0.309   \n",
       "258    0.200  ...    0.927    0.322    0.453    1.010    0.149    0.296   \n",
       "\n",
       "     query44  query45  trend  winter  \n",
       "0      2.822    2.245      1       0  \n",
       "1      2.664    2.050      2       0  \n",
       "2      3.240    2.541      3       0  \n",
       "3      2.318    2.088      4       0  \n",
       "4      2.553    2.284      5       0  \n",
       "..       ...      ...    ...     ...  \n",
       "254    3.584    1.475    255       0  \n",
       "255    2.977    1.327    256       0  \n",
       "256    3.174    1.279    257       0  \n",
       "257    2.920    1.278    258       0  \n",
       "258    3.163    1.263    259       0  \n",
       "\n",
       "[259 rows x 47 columns]"
      ]
     },
     "execution_count": 49,
     "metadata": {},
     "output_type": "execute_result"
    }
   ],
   "source": [
    "X"
   ]
  },
  {
   "cell_type": "code",
   "execution_count": 41,
   "metadata": {
    "ExecuteTime": {
     "end_time": "2021-04-22T07:46:06.047824Z",
     "start_time": "2021-04-22T07:46:05.832010Z"
    }
   },
   "outputs": [
    {
     "name": "stdout",
     "output_type": "stream",
     "text": [
      "最佳 alpha: 0.00872249\n",
      "最佳 l1_ratio: 0.500\n",
      "迭代次数 192\n"
     ]
    }
   ],
   "source": [
    "N = 50\n",
    "X_train = X.iloc[:N,]\n",
    "X_test = X.iloc[N:,]\n",
    "y_train = y[:N]\n",
    "y_test = y[N:]\n",
    "\n",
    "# 利用弹性网络\n",
    "from sklearn.model_selection import cross_val_score\n",
    "cv_model = ElasticNetCV(l1_ratio=0.5, eps=1e-3, n_alphas=200, fit_intercept=True, \n",
    "                        normalize=True, precompute='auto', max_iter=200, tol=0.006, cv=10, \n",
    "                        copy_X=True, verbose=0, n_jobs=-1, positive=False, random_state=0)\n",
    "\n",
    "# 训练模型              \n",
    "cv_model.fit(X_train, y_train)\n",
    "\n",
    "# 计算最佳迭代次数、alpha和ratio\n",
    "print('最佳 alpha: %.8f'%cv_model.alpha_)\n",
    "print('最佳 l1_ratio: %.3f'%cv_model.l1_ratio_)\n",
    "print('迭代次数 %d'%cv_model.n_iter_)"
   ]
  },
  {
   "cell_type": "code",
   "execution_count": 42,
   "metadata": {
    "ExecuteTime": {
     "end_time": "2021-04-22T07:46:07.411250Z",
     "start_time": "2021-04-22T07:46:07.401706Z"
    }
   },
   "outputs": [
    {
     "name": "stdout",
     "output_type": "stream",
     "text": [
      "Train r2 score:  0.979905989096354\n",
      "Test r2 score:  0.7807360549778775\n",
      "Train RMSE: 0.1717\n",
      "Test RMSE: 0.4817\n"
     ]
    }
   ],
   "source": [
    "# 输出结果\n",
    "y_train_pred = cv_model.predict(X_train)\n",
    "y_pred = cv_model.predict(X_test)\n",
    "print('Train r2 score: ', r2_score(y_train_pred, y_train))\n",
    "print('Test r2 score: ', r2_score(y_test, y_pred))\n",
    "train_mse = mean_squared_error(y_train_pred, y_train)\n",
    "test_mse = mean_squared_error(y_pred, y_test)\n",
    "train_rmse = np.sqrt(train_mse)\n",
    "test_rmse = np.sqrt(test_mse)\n",
    "print('Train RMSE: %.4f' % train_rmse)\n",
    "print('Test RMSE: %.4f' % test_rmse)"
   ]
  },
  {
   "cell_type": "code",
   "execution_count": 43,
   "metadata": {
    "ExecuteTime": {
     "end_time": "2021-04-22T07:46:09.200038Z",
     "start_time": "2021-04-22T07:46:09.049948Z"
    }
   },
   "outputs": [
    {
     "data": {
      "image/png": "[encoded data removed]",
      "text/plain": [
       "<Figure size 1080x360 with 1 Axes>"
      ]
     },
     "metadata": {},
     "output_type": "display_data"
    }
   ],
   "source": [
    "import datetime\n",
    "plt.style.use('ggplot')\n",
    "\n",
    "plt.rcParams.update({'figure.figsize': (15, 5)})\n",
    "\n",
    "plt.plot(date, y)\n",
    "plt.plot(date[N:], y_pred)\n",
    "\n",
    "plt.show()"
   ]
  },
  {
   "cell_type": "markdown",
   "metadata": {
    "ExecuteTime": {
     "end_time": "2021-04-22T07:33:06.311007Z",
     "start_time": "2021-04-22T07:33:06.308520Z"
    }
   },
   "source": [
    "## Add time lags of y"
   ]
  },
  {
   "cell_type": "code",
   "execution_count": 44,
   "metadata": {
    "ExecuteTime": {
     "end_time": "2021-04-22T07:46:10.477402Z",
     "start_time": "2021-04-22T07:46:10.473251Z"
    }
   },
   "outputs": [],
   "source": [
    "X = dat.drop(['y', 'date'], axis = 1)"
   ]
  },
  {
   "cell_type": "code",
   "execution_count": 45,
   "metadata": {
    "ExecuteTime": {
     "end_time": "2021-04-22T07:46:11.518460Z",
     "start_time": "2021-04-22T07:46:11.193620Z"
    }
   },
   "outputs": [
    {
     "name": "stdout",
     "output_type": "stream",
     "text": [
      "最佳 alpha: 0.00182915\n",
      "最佳 l1_ratio: 0.500\n",
      "迭代次数 194\n"
     ]
    }
   ],
   "source": [
    "N = 50\n",
    "X_train = X.iloc[:N,]\n",
    "X_test = X.iloc[N:,]\n",
    "y_train = y[:N]\n",
    "y_test = y[N:]\n",
    "\n",
    "# 利用弹性网络\n",
    "from sklearn.model_selection import cross_val_score\n",
    "cv_model = ElasticNetCV(l1_ratio=0.5, eps=1e-3, n_alphas=200, fit_intercept=True, \n",
    "                        normalize=True, precompute='auto', max_iter=200, tol=0.006, cv=10, \n",
    "                        copy_X=True, verbose=0, n_jobs=-1, positive=False, random_state=0)\n",
    "\n",
    "# 训练模型              \n",
    "cv_model.fit(X_train, y_train)\n",
    "\n",
    "# 计算最佳迭代次数、alpha和ratio\n",
    "print('最佳 alpha: %.8f'%cv_model.alpha_)\n",
    "print('最佳 l1_ratio: %.3f'%cv_model.l1_ratio_)\n",
    "print('迭代次数 %d'%cv_model.n_iter_)"
   ]
  },
  {
   "cell_type": "code",
   "execution_count": 46,
   "metadata": {
    "ExecuteTime": {
     "end_time": "2021-04-22T07:46:12.283540Z",
     "start_time": "2021-04-22T07:46:12.274144Z"
    }
   },
   "outputs": [
    {
     "name": "stdout",
     "output_type": "stream",
     "text": [
      "Train r2 score:  0.9873223029800365\n",
      "Test r2 score:  0.8287329147256355\n",
      "Train RMSE: 0.1405\n",
      "Test RMSE: 0.4258\n"
     ]
    }
   ],
   "source": [
    "# 输出结果\n",
    "y_train_pred = cv_model.predict(X_train)\n",
    "y_pred = cv_model.predict(X_test)\n",
    "print('Train r2 score: ', r2_score(y_train_pred, y_train))\n",
    "print('Test r2 score: ', r2_score(y_test, y_pred))\n",
    "train_mse = mean_squared_error(y_train_pred, y_train)\n",
    "test_mse = mean_squared_error(y_pred, y_test)\n",
    "train_rmse = np.sqrt(train_mse)\n",
    "test_rmse = np.sqrt(test_mse)\n",
    "print('Train RMSE: %.4f' % train_rmse)\n",
    "print('Test RMSE: %.4f' % test_rmse)"
   ]
  },
  {
   "cell_type": "code",
   "execution_count": 47,
   "metadata": {
    "ExecuteTime": {
     "end_time": "2021-04-22T07:46:14.061114Z",
     "start_time": "2021-04-22T07:46:13.913235Z"
    }
   },
   "outputs": [
    {
     "data": {
      "image/png": "[encoded data removed]",
      "text/plain": [
       "<Figure size 1080x360 with 1 Axes>"
      ]
     },
     "metadata": {},
     "output_type": "display_data"
    }
   ],
   "source": [
    "import datetime\n",
    "plt.style.use('ggplot')\n",
    "\n",
    "plt.rcParams.update({'figure.figsize': (15, 5)})\n",
    "\n",
    "plt.plot(date, y)\n",
    "plt.plot(date[N:], y_pred)\n",
    "\n",
    "plt.show()"
   ]
  },
  {
   "cell_type": "code",
   "execution_count": null,
   "metadata": {},
   "outputs": [],
   "source": []
  }
 ],
 "metadata": {
  "kernelspec": {
   "display_name": "Python 3",
   "language": "python",
   "name": "python3"
  },
  "language_info": {
   "codemirror_mode": {
    "name": "ipython",
    "version": 3
   },
   "file_extension": ".py",
   "mimetype": "text/x-python",
   "name": "python",
   "nbconvert_exporter": "python",
   "pygments_lexer": "ipython3",
   "version": "3.7.6"
  },
  "toc": {
   "base_numbering": 1,
   "nav_menu": {},
   "number_sections": false,
   "sideBar": true,
   "skip_h1_title": false,
   "title_cell": "Table of Contents",
   "title_sidebar": "Contents",
   "toc_cell": false,
   "toc_position": {},
   "toc_section_display": true,
   "toc_window_display": false
  }
 },
 "nbformat": 4,
 "nbformat_minor": 4
}
